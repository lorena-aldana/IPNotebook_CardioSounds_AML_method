{
 "cells": [
  {
   "cell_type": "code",
   "execution_count": 1,
   "id": "68685dd5",
   "metadata": {},
   "outputs": [
    {
     "name": "stdout",
     "output_type": "stream",
     "text": [
      "Populating the interactive namespace from numpy and matplotlib\n"
     ]
    }
   ],
   "source": [
    "%pylab qt5\n",
    "import matplotlib.pylab as plt\n",
    "import pandas as pd\n",
    "import numpy as np\n",
    "import time\n",
    "import glob #to import several files within a folder\n",
    "# import scipy.signal\n",
    "import ecgprocpy3\n",
    "# from sklearn import datasets, linear_model\n",
    "# from scipy import stats\n",
    "# from scipy import signal\n",
    "import liblo\n",
    "import pyson"
   ]
  },
  {
   "cell_type": "markdown",
   "id": "a79cea70",
   "metadata": {},
   "source": [
    "# Import data"
   ]
  },
  {
   "cell_type": "code",
   "execution_count": 2,
   "id": "f3db9f87",
   "metadata": {},
   "outputs": [],
   "source": [
    "directory='ecgdata/Bicycledata'\n",
    "files = glob.glob(directory+\"/*.csv\")\n",
    "bikedata = []\n",
    "for f in files:\n",
    "    bikedata.append(pd.read_csv(f, delimiter=' ', header = None,  usecols=[0,1]))\n",
    "for dataset in range(len(bikedata)):\n",
    "    bikedata[dataset].columns = [\"time\",\"L1\"]"
   ]
  },
  {
   "cell_type": "markdown",
   "id": "3d843ce6",
   "metadata": {},
   "source": [
    "# Data exploration"
   ]
  },
  {
   "cell_type": "code",
   "execution_count": 13,
   "id": "2c021d34",
   "metadata": {},
   "outputs": [
    {
     "data": {
      "text/plain": [
       "Text(0.5, 0, 'Time [s]')"
      ]
     },
     "execution_count": 13,
     "metadata": {},
     "output_type": "execute_result"
    }
   ],
   "source": [
    "data = bikedata[0][\"L1\"]; sr = 1000.0; window = 400; \n",
    "t = np.linspace(0, len(data)/sr, len(data))\n",
    "plt.plot(t, data)\n",
    "plt.title('ECG data')\n",
    "plt.ylabel('Amplitude [mV]')\n",
    "plt.xlabel('Time [s]')"
   ]
  },
  {
   "cell_type": "code",
   "execution_count": 41,
   "id": "ca5b0aec",
   "metadata": {},
   "outputs": [],
   "source": [
    "peaks= ecgprocpy3.find_R_peaks_onechannel(data, sr, window, thpercentage = 0.4, plot = True)\n",
    "t_peaks= [x[0] for x in peaks]\n",
    "rrs = [a - b for a, b in zip(t_peaks[1:], t_peaks[:-1])] "
   ]
  },
  {
   "cell_type": "markdown",
   "id": "956791c8",
   "metadata": {},
   "source": [
    "# OSC functions"
   ]
  },
  {
   "cell_type": "code",
   "execution_count": 18,
   "id": "0ac5860d",
   "metadata": {},
   "outputs": [],
   "source": [
    "#Time difference correction to be used with liblo OSC library:\n",
    "liblo_time_diff = 2208988800.0\n",
    "osctarget = liblo.Address(\"127.0.0.1\", 57110)\n",
    "\n",
    "def sc_bundle(timetag, msgAdr=\"/s_new\", msgArgs=[\"s1\", 2000, 1, 0, \"freq\", 300, \"amp\", 0.5]):\n",
    "    '''Function to send OSC messages as bundle'''\n",
    "    message = liblo.Message(msgAdr)\n",
    "    for arg in msgArgs:\n",
    "        message.add(arg)\n",
    "    bundle = liblo.Bundle(timetag+liblo_time_diff, message)\n",
    "    liblo.send(osctarget, bundle)\n",
    "    \n",
    "def sc_msg(msgAdr=\"/s_new\", msgArgs=[\"s1\", 2000, 1, 0, \"freq\", 300, \"amp\", 0.5]):\n",
    "    '''Function to send individual OSC messages'''\n",
    "    message = liblo.Message(msgAdr)\n",
    "    for arg in msgArgs:\n",
    "        message.add(arg)\n",
    "    liblo.send(osctarget, message)   "
   ]
  },
  {
   "cell_type": "markdown",
   "id": "646d31f5",
   "metadata": {},
   "source": [
    "# SC recording functions using sc3nb"
   ]
  },
  {
   "cell_type": "code",
   "execution_count": 19,
   "id": "40c8ff66",
   "metadata": {},
   "outputs": [
    {
     "data": {
      "application/javascript": [
       "Jupyter.keyboard_manager.command_shortcuts.add_shortcut('cmd-.', {\n",
       "    help : 'sc.cmd(\"s.freeAll\")',\n",
       "    help_index : 'zz',\n",
       "    handler : function (event) {\n",
       "        IPython.notebook.kernel.execute(\"sc.freeAll()\")\n",
       "        return true;\n",
       "    }}\n",
       ");"
      ],
      "text/plain": [
       "<IPython.core.display.Javascript object>"
      ]
     },
     "metadata": {},
     "output_type": "display_data"
    }
   ],
   "source": [
    "from sc3nb.sc3nb import *"
   ]
  },
  {
   "cell_type": "code",
   "execution_count": 20,
   "id": "82bc1461",
   "metadata": {},
   "outputs": [
    {
     "name": "stderr",
     "output_type": "stream",
     "text": [
      "[1206/185221.573500:WARNING:resource_bundle_qt.cpp(115)] locale_file_path.empty() for locale \n"
     ]
    },
    {
     "name": "stdout",
     "output_type": "stream",
     "text": [
      "sc3nb started\n",
      "-> sc3nb started\n",
      "\n",
      "-> localhost\n",
      "sc3> s.scope\n",
      "-> a Stethoscope\n",
      "\n",
      "-> a FreqScope\n",
      "\n"
     ]
    }
   ],
   "source": [
    "sc = startup(discard_output=True, verbose=True, liblo_flag=True)   \n",
    "# scope window should open\n",
    "%scv s.scope\n",
    "%scv s.freqscope"
   ]
  },
  {
   "cell_type": "code",
   "execution_count": null,
   "id": "16d4f9a2",
   "metadata": {},
   "outputs": [],
   "source": [
    "sc.exit()  # to close sc3"
   ]
  },
  {
   "cell_type": "markdown",
   "id": "642b3547",
   "metadata": {},
   "source": [
    "### Define AML synth"
   ]
  },
  {
   "cell_type": "code",
   "execution_count": 21,
   "id": "1b517b0e",
   "metadata": {},
   "outputs": [
    {
     "name": "stdout",
     "output_type": "stream",
     "text": [
      "-> a SynthDef\n",
      "\n"
     ]
    }
   ],
   "source": [
    "%%scv\n",
    "(\n",
    "SynthDef(\"AML\", {|amp=1, freq=200, pan=0, out=0, numharm=2, signal|\n",
    "signal= Blip.ar(freq, numharm, amp)*EnvGen.kr(Env.perc(attackTime: 0.01, releaseTime: 0.2, level: 1, curve: -4), doneAction:2);\n",
    "Out.ar(out,signal!2);\n",
    "}).add()\n",
    ")"
   ]
  },
  {
   "cell_type": "code",
   "execution_count": 31,
   "id": "48a6f9c0",
   "metadata": {},
   "outputs": [],
   "source": [
    "#test line synth\n",
    "now = time.time()\n",
    "sc.bundle(now, \"/s_new\", [\"AML\", -1, 0, 0, 'amp', 0.3, 'freq', 300, 'pan', 0, 'numharm', 2])"
   ]
  },
  {
   "cell_type": "markdown",
   "id": "48a4da2b",
   "metadata": {},
   "source": [
    "# AML sonification real data (and recording) function"
   ]
  },
  {
   "cell_type": "code",
   "execution_count": 43,
   "id": "d3157c81",
   "metadata": {},
   "outputs": [],
   "source": [
    "def son_aml_rec(signal, sr, playback_rate, window, thpercentage, record = False, recname = 'AML_sonification'):\n",
    "    \n",
    "    '''This functions receives an ecg dataset with given parameters and sonifies it\n",
    "    using the previously defined AML synth. It is also possible to record the sound. \n",
    "    \n",
    "    Parameters:\n",
    "    signal: array ECG data \n",
    "    sr: int/float. sample rate\n",
    "    window: int. size of windows to search for R peaks in ECG signal\n",
    "    thpercentage: float [0...1].threshold to find peaks according to a given percentage of amplitude between lowest ECG data value and maximum ECG data value\n",
    "    record: True/False\n",
    "    recname: string. filename when sonification is recorded.\n",
    "\n",
    "    Returns: None\n",
    "    Generates a sonification and records the audio file to disk if recording parameter is selected.\n",
    "    '''\n",
    "    N = len(signal)\n",
    "    tref = 0.0\n",
    "    tot_dur = N/sr/playback_rate\n",
    "    \n",
    "    peaks= ecgprocpy3.find_R_peaks_onechannel(data, sr, window, thpercentage, plot = False)\n",
    "    t_peaks= [x[0] for x in peaks]\n",
    "    now = time.time()\n",
    "\n",
    "    #init AML variables\n",
    "    epsilon = 0.05\n",
    "    delta = 1\n",
    "          #Recording control\n",
    "    if record == True:\n",
    "        filename = 'son01.wav'\n",
    "        recdir = os.getcwd()+'/sonifications'\n",
    "        sc.prepare_for_record(0, recdir + recname + filename, 9, 2, \"wav\", \"int16\")\n",
    "        sc.record(now)\n",
    "    \n",
    "    for idx, x in enumerate(peaks[:-2]):  \n",
    "        RRy = peaks[idx+1][0]-peaks[idx][0]\n",
    "        RRx = peaks[idx+2][0]-peaks[idx+1][0]\n",
    "        RR = np.abs(RRx - RRy)\n",
    "        freq = 0.5 * (np.tanh([delta * (RR - epsilon)]) + np.tanh([delta * (RR + epsilon)]))  \n",
    "        amp = 0.5 * (np.tanh([np.abs(delta * (RR - epsilon))]) + np.tanh([np.abs(delta * (RR + epsilon))]))\n",
    "        amp_mapped = pyson.linlin(amp, 0, 0.3, pyson.dbamp(-24), pyson.dbamp(-6))\n",
    "        freq_mapped = pyson.linlin(freq, -1, 1, pyson.midicps(60), pyson.midicps(84))\n",
    "        sc.bundle(now+t_peaks[idx], \"/s_new\", [\"AML\", -1, 0, 0, 'amp', float(amp_mapped), 'freq', float(freq_mapped), 'pan', 0, 'numharm', 2])\n",
    "    \n",
    "    if record == True:\n",
    "        sc.stop_recording(now+tot_dur+0.7)  # to pause, in case you want to resume with record()\n",
    "    print ('Free All nodes')"
   ]
  },
  {
   "cell_type": "markdown",
   "id": "95d2babb",
   "metadata": {},
   "source": [
    "## Test the *son_aml_rec* function with real ECG data:"
   ]
  },
  {
   "cell_type": "code",
   "execution_count": 44,
   "id": "54353cd1",
   "metadata": {},
   "outputs": [
    {
     "name": "stdout",
     "output_type": "stream",
     "text": [
      "Free All nodes\n"
     ]
    }
   ],
   "source": [
    "#call AML function:\n",
    "data = bikedata[0][\"L1\"][:25000]; sr = 1000.0; window = 400;  \n",
    "son_aml_rec(data, sr = 1000.0, playback_rate = 1, window = 400, thpercentage = 0.4, record = False)"
   ]
  },
  {
   "cell_type": "code",
   "execution_count": null,
   "id": "d50b9888",
   "metadata": {},
   "outputs": [],
   "source": []
  }
 ],
 "metadata": {
  "kernelspec": {
   "display_name": "Python 3 (ipykernel)",
   "language": "python",
   "name": "python3"
  },
  "language_info": {
   "codemirror_mode": {
    "name": "ipython",
    "version": 3
   },
   "file_extension": ".py",
   "mimetype": "text/x-python",
   "name": "python",
   "nbconvert_exporter": "python",
   "pygments_lexer": "ipython3",
   "version": "3.8.5"
  }
 },
 "nbformat": 4,
 "nbformat_minor": 5
}
